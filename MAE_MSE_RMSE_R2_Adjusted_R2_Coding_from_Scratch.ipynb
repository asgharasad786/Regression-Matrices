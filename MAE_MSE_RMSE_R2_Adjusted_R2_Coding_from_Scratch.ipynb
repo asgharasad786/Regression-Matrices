{
  "cells": [
    {
      "cell_type": "code",
      "execution_count": 201,
      "metadata": {
        "id": "YV9YWXgadhlt"
      },
      "outputs": [],
      "source": [
        "import pandas as pd\n",
        "import numpy as np"
      ]
    },
    {
      "cell_type": "code",
      "execution_count": 189,
      "metadata": {
        "id": "Ws8wkiN8dhlx"
      },
      "outputs": [],
      "source": [
        "X_train= pd.read_csv('/content/X_train.csv').values\n",
        "y_train= pd.read_csv('/content/y_train.csv').values\n",
        "X_test= pd.read_csv('/content/X_test.csv').values\n",
        "y_test= pd.read_csv('/content/y_test.csv').values"
      ]
    },
    {
      "cell_type": "markdown",
      "source": [
        "**Linear Model Scratch Coding**"
      ],
      "metadata": {
        "id": "grj9lELAFij7"
      }
    },
    {
      "cell_type": "code",
      "source": [
        "class LR_Model:\n",
        "\n",
        "    def __init__(self):\n",
        "        self.m = None\n",
        "        self.b = None\n",
        "\n",
        "    def fit(self,X_train,y_train):\n",
        "\n",
        "        num = 0\n",
        "        den = 0\n",
        "\n",
        "        for i in range(X_train.shape[0]):\n",
        "\n",
        "            num = num + ((X_train[i] - X_train.mean())*(y_train[i] - y_train.mean()))\n",
        "            den = den + ((X_train[i] - X_train.mean())**2)\n",
        "\n",
        "        self.m = num/den\n",
        "        self.b = y_train.mean() - (self.m * X_train.mean())\n",
        "        print(\"Value of Coeff_\",self.m)\n",
        "        print(\"Value of Intercept_\",self.b)\n",
        "\n",
        "    def predict(self,X_test):\n",
        "\n",
        "        # print(\"CGPA: \", X_test)\n",
        "\n",
        "        return self.m * X_test + self.b"
      ],
      "metadata": {
        "id": "B3_MXIsbpgU7"
      },
      "execution_count": 190,
      "outputs": []
    },
    {
      "cell_type": "code",
      "source": [
        "Model=LR_Model()"
      ],
      "metadata": {
        "id": "ZwkspIiOs0Le"
      },
      "execution_count": 191,
      "outputs": []
    },
    {
      "cell_type": "code",
      "source": [
        "Model.fit(X_train,y_train)"
      ],
      "metadata": {
        "colab": {
          "base_uri": "https://localhost:8080/"
        },
        "id": "nJJnshj0pgW-",
        "outputId": "1a930848-fb54-40d8-b027-90bb248eac9f"
      },
      "execution_count": 192,
      "outputs": [
        {
          "output_type": "stream",
          "name": "stdout",
          "text": [
            "Value of Coeff_ [0.56959129]\n",
            "Value of Intercept_ [-0.98567795]\n"
          ]
        }
      ]
    },
    {
      "cell_type": "code",
      "source": [
        "y_pred=Model.predict(X_test)\n",
        "y_pred"
      ],
      "metadata": {
        "colab": {
          "base_uri": "https://localhost:8080/"
        },
        "id": "c-utIicHpgYp",
        "outputId": "26edbaa0-d7dc-487a-875f-5617a933255b"
      },
      "execution_count": 193,
      "outputs": [
        {
          "output_type": "execute_result",
          "data": {
            "text/plain": [
              "array([[3.90141536],\n",
              "       [3.08689981],\n",
              "       [2.36351887],\n",
              "       [2.55717991],\n",
              "       [1.61735427],\n",
              "       [1.74266436],\n",
              "       [2.04454774],\n",
              "       [2.92171834],\n",
              "       [3.77040937],\n",
              "       [2.92741425],\n",
              "       [4.10646823],\n",
              "       [3.51409328],\n",
              "       [2.96158973],\n",
              "       [2.38060661],\n",
              "       [3.18373033],\n",
              "       [3.46852598],\n",
              "       [1.91354174],\n",
              "       [3.24068946],\n",
              "       [2.96728564],\n",
              "       [3.41726276],\n",
              "       [2.54009217],\n",
              "       [3.16094668],\n",
              "       [2.84767147],\n",
              "       [3.11537938],\n",
              "       [3.69066658],\n",
              "       [2.85906329],\n",
              "       [3.49700554],\n",
              "       [3.34321589],\n",
              "       [3.92989493],\n",
              "       [1.93062948],\n",
              "       [3.65649111],\n",
              "       [3.20651398],\n",
              "       [3.74762571],\n",
              "       [2.7736246 ],\n",
              "       [2.76792869],\n",
              "       [3.26916903],\n",
              "       [3.53118102],\n",
              "       [2.5970513 ],\n",
              "       [2.6426186 ],\n",
              "       [2.69957773]])"
            ]
          },
          "metadata": {},
          "execution_count": 193
        }
      ]
    },
    {
      "cell_type": "code",
      "source": [
        "y_test"
      ],
      "metadata": {
        "colab": {
          "base_uri": "https://localhost:8080/"
        },
        "id": "VozBEQvTvOp7",
        "outputId": "b99f117d-457e-4c5c-b476-011606a71fca"
      },
      "execution_count": 194,
      "outputs": [
        {
          "output_type": "execute_result",
          "data": {
            "text/plain": [
              "array([[4.1 ],\n",
              "       [3.49],\n",
              "       [2.08],\n",
              "       [2.33],\n",
              "       [1.94],\n",
              "       [1.48],\n",
              "       [1.86],\n",
              "       [3.09],\n",
              "       [4.21],\n",
              "       [2.87],\n",
              "       [3.65],\n",
              "       [4.  ],\n",
              "       [2.89],\n",
              "       [2.6 ],\n",
              "       [2.99],\n",
              "       [3.25],\n",
              "       [1.86],\n",
              "       [3.67],\n",
              "       [2.37],\n",
              "       [3.42],\n",
              "       [2.48],\n",
              "       [3.65],\n",
              "       [2.6 ],\n",
              "       [2.83],\n",
              "       [4.08],\n",
              "       [2.56],\n",
              "       [3.58],\n",
              "       [3.81],\n",
              "       [4.09],\n",
              "       [2.01],\n",
              "       [3.63],\n",
              "       [2.92],\n",
              "       [3.51],\n",
              "       [1.94],\n",
              "       [2.21],\n",
              "       [3.34],\n",
              "       [3.34],\n",
              "       [3.23],\n",
              "       [2.01],\n",
              "       [2.61]])"
            ]
          },
          "metadata": {},
          "execution_count": 194
        }
      ]
    },
    {
      "cell_type": "markdown",
      "source": [
        "**Value of MAE MSE RMSE, R2 SCORE, ADJUSTED R2 using Scratch Coding**"
      ],
      "metadata": {
        "id": "-OZMRZcVFucp"
      }
    },
    {
      "cell_type": "markdown",
      "source": [
        "**MAE**"
      ],
      "metadata": {
        "id": "O8LjDB0mwM_K"
      }
    },
    {
      "cell_type": "code",
      "source": [
        "n=X_test.shape[0]\n",
        "MAE=0\n",
        "for i in range(X_test.shape[0]):\n",
        "  MAE+=abs(y_test[i]-y_pred[i])\n",
        "MAE=MAE/n\n",
        "print(\"MAE: \",MAE)"
      ],
      "metadata": {
        "colab": {
          "base_uri": "https://localhost:8080/"
        },
        "id": "DxsGJ296vOvt",
        "outputId": "ff7f8354-02d2-4e91-c924-f8ba8a05fb6b"
      },
      "execution_count": 195,
      "outputs": [
        {
          "output_type": "stream",
          "name": "stdout",
          "text": [
            "MAE:  [0.28488015]\n"
          ]
        }
      ]
    },
    {
      "cell_type": "markdown",
      "source": [
        "**MSE**"
      ],
      "metadata": {
        "id": "0mWpSt6yy8rl"
      }
    },
    {
      "cell_type": "code",
      "source": [
        "n=X_test.shape[0]\n",
        "MSE=0\n",
        "for i in range(X_test.shape[0]):\n",
        "  MSE+=(y_test[i]-y_pred[i])**2\n",
        "MSE=MSE/n\n",
        "print(\"MSE: \",MSE)"
      ],
      "metadata": {
        "colab": {
          "base_uri": "https://localhost:8080/"
        },
        "id": "q3FB2PR2vOzD",
        "outputId": "04d1c13b-a271-4219-ab97-d3ef78216274"
      },
      "execution_count": 196,
      "outputs": [
        {
          "output_type": "stream",
          "name": "stdout",
          "text": [
            "MSE:  [0.11930145]\n"
          ]
        }
      ]
    },
    {
      "cell_type": "markdown",
      "source": [
        "**RMSE**"
      ],
      "metadata": {
        "id": "0hhEYnk10RKq"
      }
    },
    {
      "cell_type": "code",
      "source": [
        "n=X_test.shape[0]\n",
        "RMSE=0\n",
        "for i in range(n):\n",
        "  RMSE+=((y_test[i]-y_pred[i])**2)\n",
        "RMSE=RMSE/n\n",
        "RMSE=RMSE**0.5\n",
        "print(\"RMSE: \",RMSE)"
      ],
      "metadata": {
        "colab": {
          "base_uri": "https://localhost:8080/"
        },
        "id": "qzPThTHwzYLU",
        "outputId": "2b609247-00d4-49bd-96ad-32b5f2d88f90"
      },
      "execution_count": 197,
      "outputs": [
        {
          "output_type": "stream",
          "name": "stdout",
          "text": [
            "RMSE:  [0.34540043]\n"
          ]
        }
      ]
    },
    {
      "cell_type": "markdown",
      "source": [
        "**R2 Score**"
      ],
      "metadata": {
        "id": "-MJ-_DFv36O1"
      }
    },
    {
      "cell_type": "code",
      "source": [
        "n=X_test.shape[0]\n",
        "num=0\n",
        "den=0\n",
        "for i in range(X_test.shape[0]):\n",
        "  num+=(y_test[i]-y_pred[i])**2\n",
        "  den+=(y_test[i]-y_test.mean())**2\n",
        "R2=1-(num/den)\n",
        "print(\"R2 Score: \",R2)"
      ],
      "metadata": {
        "colab": {
          "base_uri": "https://localhost:8080/"
        },
        "id": "Y4sY-fLW35Wu",
        "outputId": "a13ccfd7-d549-4bb0-b05e-b67dec62453f"
      },
      "execution_count": 198,
      "outputs": [
        {
          "output_type": "stream",
          "name": "stdout",
          "text": [
            "R2 Score:  [0.78432926]\n"
          ]
        }
      ]
    },
    {
      "cell_type": "markdown",
      "source": [
        "**Adjusted R2 Score**"
      ],
      "metadata": {
        "id": "W1Epyck55DBp"
      }
    },
    {
      "cell_type": "code",
      "source": [
        "n=X_test.shape[0]\n",
        "p=X_train.shape[1]\n",
        "num=0\n",
        "den=0\n",
        "for i in range(X_test.shape[0]):\n",
        "  num+=(y_test[i]-y_pred[i])**2\n",
        "  den+=(y_test[i]-y_test.mean())**2\n",
        "R2=1-(num/den)\n",
        "Adj_R2=1-(1-R2)*(n-1)/(n-p-1)\n",
        "print(\"Adjusted R2 Score: \",Adj_R2)"
      ],
      "metadata": {
        "colab": {
          "base_uri": "https://localhost:8080/"
        },
        "id": "8jtJFvP135aI",
        "outputId": "03407ef2-5256-43f3-ab07-239c78001eee"
      },
      "execution_count": 199,
      "outputs": [
        {
          "output_type": "stream",
          "name": "stdout",
          "text": [
            "Adjusted R2 Score:  [0.77865371]\n"
          ]
        }
      ]
    }
  ],
  "metadata": {
    "kernelspec": {
      "display_name": "Python 3",
      "language": "python",
      "name": "python3"
    },
    "language_info": {
      "codemirror_mode": {
        "name": "ipython",
        "version": 3
      },
      "file_extension": ".py",
      "mimetype": "text/x-python",
      "name": "python",
      "nbconvert_exporter": "python",
      "pygments_lexer": "ipython3",
      "version": "3.8.3"
    },
    "colab": {
      "provenance": []
    }
  },
  "nbformat": 4,
  "nbformat_minor": 0
}